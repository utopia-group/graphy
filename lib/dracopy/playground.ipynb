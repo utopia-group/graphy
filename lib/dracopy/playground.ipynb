{
 "cells": [
  {
   "cell_type": "code",
   "execution_count": 140,
   "metadata": {},
   "outputs": [],
   "source": [
    "import draco\n",
    "from draco import helper"
   ]
  },
  {
   "cell_type": "code",
   "execution_count": 141,
   "metadata": {},
   "outputs": [],
   "source": [
    "data_file = \"../../eval/data/cars/cars.csv\"\n",
    "data_spec = helper.read_data_to_asp(data_file)"
   ]
  },
  {
   "cell_type": "code",
   "execution_count": 142,
   "metadata": {},
   "outputs": [
    {
     "data": {
      "text/plain": [
       "['num_rows(303).',\n",
       " 'fieldtype(\"Model\",string).',\n",
       " 'cardinality(\"Model\",303).',\n",
       " 'fieldtype(\"MPG\",number).',\n",
       " 'cardinality(\"MPG\",111).',\n",
       " 'fieldtype(\"Cylinders\",number).',\n",
       " 'cardinality(\"Cylinders\",5).',\n",
       " 'fieldtype(\"Displacement\",number).',\n",
       " 'cardinality(\"Displacement\",78).',\n",
       " 'fieldtype(\"Horsepower\",number).',\n",
       " 'cardinality(\"Horsepower\",89).',\n",
       " 'fieldtype(\"Weight\",number).',\n",
       " 'cardinality(\"Weight\",274).',\n",
       " 'fieldtype(\"Acceleration\",number).',\n",
       " 'cardinality(\"Acceleration\",91).',\n",
       " 'fieldtype(\"Year\",number).',\n",
       " 'cardinality(\"Year\",13).',\n",
       " 'fieldtype(\"Origin\",string).',\n",
       " 'cardinality(\"Origin\",3).']"
      ]
     },
     "execution_count": 142,
     "metadata": {},
     "output_type": "execute_result"
    }
   ],
   "source": [
    "data_spec"
   ]
  },
  {
   "cell_type": "code",
   "execution_count": 143,
   "metadata": {},
   "outputs": [],
   "source": [
    "bt2_spec = ['encoding(e0).', 'field(e0, \"Cylinders\").','field(e1, \"MPG\").', 'aggregate(e1, mean).',  'encoding(e1).']\n",
    "# bt2_spec = ['encoding(e0).', 'field(e0, \"Cylinders\").']"
   ]
  },
  {
   "cell_type": "code",
   "execution_count": 144,
   "metadata": {},
   "outputs": [],
   "source": [
    "res = draco.run(data_spec + bt2_spec, debug=True)"
   ]
  },
  {
   "cell_type": "code",
   "execution_count": 145,
   "metadata": {},
   "outputs": [
    {
     "name": "stdout",
     "output_type": "stream",
     "text": [
      "{'$schema': 'https://vega.github.io/schema/vega-lite/v4.json', 'data': {'url': None}, 'mark': 'bar', 'encoding': {'x': {'type': 'quantitative', 'aggregate': 'mean', 'field': 'MPG', 'scale': {'zero': False}}, 'y': {'type': 'ordinal', 'field': 'Cylinders'}}}\n",
      "17\n"
     ]
    }
   ],
   "source": [
    "print(res.as_vl())\n",
    "print(res.cost)"
   ]
  },
  {
   "cell_type": "code",
   "execution_count": 111,
   "metadata": {},
   "outputs": [],
   "source": [
    "# bt_spec = ['encoding(e0).', '1 {field(e0, \"MPG\"); field(e0, \"Displacement\")} 1.', 'encoding(e1).', '1 {field(e1, \"MPG\"); field(e1, \"Displacement\")} 1.' ]\n",
    "bt_spec = [':~ not encoding(e0). [1]', ':~ not 1 {field(e0, \"MPG\"); field(e0, \"Displacement\")} 1. [1]', ':~ not encoding(e1). [1]', ':~ not 1 {field(e1, \"MPG\"); field(e1, \"Displacement\")} 1. [1]' ]"
   ]
  },
  {
   "cell_type": "code",
   "execution_count": 112,
   "metadata": {},
   "outputs": [],
   "source": [
    "res = draco.run(data_spec + bt_spec, debug=True)"
   ]
  },
  {
   "cell_type": "code",
   "execution_count": 113,
   "metadata": {},
   "outputs": [
    {
     "name": "stdout",
     "output_type": "stream",
     "text": [
      "{'$schema': 'https://vega.github.io/schema/vega-lite/v4.json', 'data': {'url': None}, 'mark': 'tick', 'encoding': {'x': {'type': 'quantitative', 'field': 'Year', 'scale': {'zero': False}}}}\n",
      "9\n"
     ]
    }
   ],
   "source": [
    "print(res.as_vl())\n",
    "print(res.cost)"
   ]
  },
  {
   "cell_type": "code",
   "execution_count": 13,
   "metadata": {},
   "outputs": [],
   "source": [
    "# b1_spec = [':- not mark(point). ', 'encoding(e0).', ':- not field(e0, \"MPG\").', 'encoding(e1).', ':- not field(e1, \"Displacement\").', 'encoding(e2).', ':- not field(e2, \"Origin\").', ':- not channel(e2, color).']\n",
    "b122_spec = [ 'encoding(e0).', ':- not field(e0, \"MPG\").', 'encoding(e1).', ':- not field(e1, \"Displacement\").', 'encoding(e2).', ':- not field(e2, \"Origin\").']"
   ]
  },
  {
   "cell_type": "code",
   "execution_count": 14,
   "metadata": {},
   "outputs": [],
   "source": [
    "res = draco.run(data_spec + b122_spec, debug=True)"
   ]
  },
  {
   "cell_type": "code",
   "execution_count": 15,
   "metadata": {},
   "outputs": [
    {
     "data": {
      "text/plain": [
       "{'$schema': 'https://vega.github.io/schema/vega-lite/v4.json',\n",
       " 'data': {'url': None},\n",
       " 'mark': 'point',\n",
       " 'encoding': {'y': {'type': 'ordinal', 'field': 'Origin'},\n",
       "  'x': {'type': 'quantitative', 'field': 'MPG', 'bin': True},\n",
       "  'size': {'type': 'quantitative',\n",
       "   'aggregate': 'mean',\n",
       "   'field': 'Displacement',\n",
       "   'scale': {'zero': False}}}}"
      ]
     },
     "execution_count": 15,
     "metadata": {},
     "output_type": "execute_result"
    }
   ],
   "source": [
    "res.as_vl()"
   ]
  },
  {
   "cell_type": "code",
   "execution_count": 19,
   "metadata": {},
   "outputs": [],
   "source": [
    "b124_spec = [ 'encoding(e0).', ':- not field(e0, \"Cylinders\").', 'encoding(e1).', ':- not field(e1, \"MPG\").', ':- not aggregate(e1, mean).']"
   ]
  },
  {
   "cell_type": "code",
   "execution_count": 20,
   "metadata": {},
   "outputs": [],
   "source": [
    "res = draco.run(data_spec + b124_spec, debug=True)"
   ]
  },
  {
   "cell_type": "code",
   "execution_count": 21,
   "metadata": {},
   "outputs": [
    {
     "data": {
      "text/plain": [
       "{'$schema': 'https://vega.github.io/schema/vega-lite/v4.json',\n",
       " 'data': {'url': None},\n",
       " 'mark': 'bar',\n",
       " 'encoding': {'y': {'type': 'ordinal', 'field': 'Cylinders'},\n",
       "  'x': {'type': 'quantitative',\n",
       "   'aggregate': 'mean',\n",
       "   'field': 'MPG',\n",
       "   'scale': {'zero': False}}}}"
      ]
     },
     "execution_count": 21,
     "metadata": {},
     "output_type": "execute_result"
    }
   ],
   "source": [
    "res.as_vl()"
   ]
  },
  {
   "cell_type": "code",
   "execution_count": 22,
   "metadata": {},
   "outputs": [],
   "source": [
    "b126_spec = [ 'encoding(e0).', ':- not field(e0, \"Acceleration\").', 'encoding(e1).', ':- not field(e1, \"Horsepower\").']"
   ]
  },
  {
   "cell_type": "code",
   "execution_count": 23,
   "metadata": {},
   "outputs": [],
   "source": [
    "res = draco.run(data_spec + b126_spec, debug=True)"
   ]
  },
  {
   "cell_type": "code",
   "execution_count": 24,
   "metadata": {},
   "outputs": [
    {
     "data": {
      "text/plain": [
       "{'$schema': 'https://vega.github.io/schema/vega-lite/v4.json',\n",
       " 'data': {'url': None},\n",
       " 'mark': 'point',\n",
       " 'encoding': {'y': {'type': 'quantitative',\n",
       "   'field': 'Acceleration',\n",
       "   'scale': {'zero': False}},\n",
       "  'x': {'type': 'quantitative',\n",
       "   'field': 'Horsepower',\n",
       "   'scale': {'zero': False}}}}"
      ]
     },
     "execution_count": 24,
     "metadata": {},
     "output_type": "execute_result"
    }
   ],
   "source": [
    "res.as_vl()"
   ]
  },
  {
   "cell_type": "code",
   "execution_count": 25,
   "metadata": {},
   "outputs": [],
   "source": [
    "b127_spec = [ 'encoding(e0).', ':- not field(e0, \"Weight\").']"
   ]
  },
  {
   "cell_type": "code",
   "execution_count": 26,
   "metadata": {},
   "outputs": [],
   "source": [
    "res = draco.run(data_spec + b127_spec, debug=True)"
   ]
  },
  {
   "cell_type": "code",
   "execution_count": 27,
   "metadata": {},
   "outputs": [
    {
     "data": {
      "text/plain": [
       "{'$schema': 'https://vega.github.io/schema/vega-lite/v4.json',\n",
       " 'data': {'url': None},\n",
       " 'mark': 'tick',\n",
       " 'encoding': {'x': {'type': 'quantitative',\n",
       "   'field': 'Weight',\n",
       "   'scale': {'zero': False}}}}"
      ]
     },
     "execution_count": 27,
     "metadata": {},
     "output_type": "execute_result"
    }
   ],
   "source": [
    "res.as_vl()"
   ]
  },
  {
   "cell_type": "code",
   "execution_count": 34,
   "metadata": {},
   "outputs": [],
   "source": [
    "b128_spec = [ 'task(summary).', 'encoding(e0).', ':- not field(e0, \"Origin\").']"
   ]
  },
  {
   "cell_type": "code",
   "execution_count": 35,
   "metadata": {},
   "outputs": [],
   "source": [
    "res = draco.run(data_spec + b128_spec, debug=True)"
   ]
  },
  {
   "cell_type": "code",
   "execution_count": 36,
   "metadata": {},
   "outputs": [
    {
     "data": {
      "text/plain": [
       "{'$schema': 'https://vega.github.io/schema/vega-lite/v4.json',\n",
       " 'data': {'url': None},\n",
       " 'mark': 'tick',\n",
       " 'encoding': {'y': {'type': 'ordinal', 'field': 'Origin'},\n",
       "  'x': {'type': 'quantitative', 'field': 'Year', 'scale': {'zero': False}}}}"
      ]
     },
     "execution_count": 36,
     "metadata": {},
     "output_type": "execute_result"
    }
   ],
   "source": [
    "res.as_vl()"
   ]
  },
  {
   "cell_type": "code",
   "execution_count": 80,
   "metadata": {},
   "outputs": [],
   "source": [
    "b178_spec = ['mark(bar).', 'encoding(e0).', ':- not field(e0, \"Origin\").', ':~ not encoding(e1). [1]', ':~ not field(e1, \"Model\"). [1]']\n",
    "# b178_spec = ['encoding(e0).', ':- not field(e0, \"Origin\").', ':- encoding(e1).', ':- not field(e1, \"Model\").']"
   ]
  },
  {
   "cell_type": "code",
   "execution_count": 81,
   "metadata": {},
   "outputs": [],
   "source": [
    "res = draco.run(data_spec + b178_spec, debug=True)"
   ]
  },
  {
   "cell_type": "code",
   "execution_count": 82,
   "metadata": {},
   "outputs": [
    {
     "data": {
      "text/plain": [
       "{'$schema': 'https://vega.github.io/schema/vega-lite/v4.json',\n",
       " 'data': {'url': None},\n",
       " 'mark': 'bar',\n",
       " 'encoding': {'y': {'type': 'ordinal', 'field': 'Origin'},\n",
       "  'x': {'type': 'quantitative',\n",
       "   'aggregate': 'mean',\n",
       "   'field': 'MPG',\n",
       "   'scale': {'zero': False}}}}"
      ]
     },
     "execution_count": 82,
     "metadata": {},
     "output_type": "execute_result"
    }
   ],
   "source": [
    "res.as_vl()"
   ]
  },
  {
   "cell_type": "code",
   "execution_count": null,
   "metadata": {},
   "outputs": [],
   "source": []
  }
 ],
 "metadata": {
  "kernelspec": {
   "display_name": "datavis",
   "language": "python",
   "name": "datavis"
  },
  "language_info": {
   "codemirror_mode": {
    "name": "ipython",
    "version": 3
   },
   "file_extension": ".py",
   "mimetype": "text/x-python",
   "name": "python",
   "nbconvert_exporter": "python",
   "pygments_lexer": "ipython3",
   "version": "3.6.13"
  }
 },
 "nbformat": 4,
 "nbformat_minor": 4
}
